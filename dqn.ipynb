{
 "cells": [
  {
   "metadata": {},
   "cell_type": "markdown",
   "source": [
    "# 深度强化学习 DQN 实验\n",
    "\n",
    "实验采用 OpenAI Gymnasium 的 Frozen Lake 环境\n",
    "\n",
    "![frozen_lake](imgs/frozen_lake.gif)"
   ],
   "id": "2aa8af84e641c45a"
  },
  {
   "cell_type": "code",
   "id": "initial_id",
   "metadata": {
    "collapsed": true,
    "ExecuteTime": {
     "end_time": "2024-11-06T05:21:22.539458Z",
     "start_time": "2024-11-06T05:21:19.294947Z"
    }
   },
   "source": [
    "import collections\n",
    "import random\n",
    "import time\n",
    "import torch\n",
    "import torch.nn as nn\n",
    "import torch.optim as optim\n",
    "import gymnasium as gym\n",
    "import matplotlib.pyplot as plt"
   ],
   "outputs": [],
   "execution_count": 1
  },
  {
   "metadata": {
    "ExecuteTime": {
     "end_time": "2024-11-06T05:21:28.473311Z",
     "start_time": "2024-11-06T05:21:23.638625Z"
    }
   },
   "cell_type": "code",
   "source": [
    "# 训练设备\n",
    "device = torch.device(\"cuda\" if torch.cuda.is_available() else \"cpu\")\n",
    "print(f'Using device: {device}')"
   ],
   "id": "ad3e3e00b0196815",
   "outputs": [
    {
     "name": "stdout",
     "output_type": "stream",
     "text": [
      "Using device: cuda\n"
     ]
    }
   ],
   "execution_count": 2
  },
  {
   "metadata": {},
   "cell_type": "markdown",
   "source": [
    "## 环境\n",
    "\n",
    "环境为一个 4x4 的网格世界，Agent 可以往上下左右四个方向移动。Agent 从起点出发，需要避开冰湖到达礼物的位置。到达终点可以获得 1 点 reward。\n",
    "\n",
    "状态空间为：$\\mathbf{S} = \\{0,1,...,15\\}$\n",
    "\n",
    "动作空间为：$\\mathbf{A} = \\{0,1,2,3\\}$\n",
    "\n",
    "我在实验中会采用将玩家放入网格的方式模拟真实环境。我将网格的每种可能的状态使用 token 表示，然后使用嵌入层映射为高维向量。"
   ],
   "id": "ec92ebe2895cd971"
  },
  {
   "metadata": {
    "ExecuteTime": {
     "end_time": "2024-11-06T05:21:32.274936Z",
     "start_time": "2024-11-06T05:21:32.264335Z"
    }
   },
   "cell_type": "code",
   "source": [
    "# 网格世界各网格可能的状态 token\n",
    "BLANK = 0\n",
    "LAKE = 1\n",
    "GIFT = 2\n",
    "PLAYER = 3\n",
    "\n",
    "# 网格世界地图\n",
    "grid = torch.tensor([\n",
    "    [BLANK, BLANK, BLANK, BLANK],\n",
    "    [BLANK, LAKE, BLANK, LAKE],\n",
    "    [BLANK, BLANK, BLANK, LAKE],\n",
    "    [LAKE, BLANK, BLANK, GIFT]\n",
    "], dtype=torch.long)\n",
    "\n",
    "# 将玩家 token 放置在地图上\n",
    "def player_on_grid(state):\n",
    "    batch_size = state.size(0)\n",
    "    ret = grid.unsqueeze(0).repeat(batch_size, 1, 1).to(state.device)\n",
    "    indices = torch.cat((state.unsqueeze(-1) // 4, state.unsqueeze(-1) % 4), dim=-1)\n",
    "    for i in range(batch_size):\n",
    "        ret[i, indices[i,0], indices[i,1]] = PLAYER\n",
    "    return ret"
   ],
   "id": "91c46e68adeafa0d",
   "outputs": [],
   "execution_count": 3
  },
  {
   "metadata": {},
   "cell_type": "markdown",
   "source": [
    "## 模型\n",
    "\n",
    "<br>\n",
    "\n",
    "#### 模型结构\n",
    "\n",
    "模型采用一个嵌入层和三层卷积网络提取特征，然后通过两个线性层估计Q值。\n",
    "\n",
    "<br>\n",
    "\n",
    "#### 模型训练\n",
    "\n",
    "训练过程分为两部分，首先需要从环境中获取训练样本，称为经验回放，存在经验回放缓冲器中，然后根据经验回放训练模型。其中获取经验回放需要使用 Epsilon-Greedy 算法。\n",
    "\n",
    "<br>\n",
    "\n",
    "**从环境中采样过程如下**：\n",
    "\n",
    "首先使用 Epsilon-Greedy 获取动作：\n",
    "$$\n",
    "x \\sim \\text{Uniform}[0,1)\n",
    "$$\n",
    "\n",
    "$$\n",
    "\\begin{cases}\n",
    "a = \\underset{a}{\\text{argmax}} Q(s,a), & x \\gt \\epsilon \\\\\n",
    "a \\sim \\text{Uniform}(\\mathbf{A}), & x \\le \\epsilon\n",
    "\\end{cases}\n",
    "$$\n",
    "\n",
    "然后将动作应用到环境，可以获取一个五元组 $(s_t,a_t,r_t,s_{t+1},\\text{done})$，其中 done 是一个布尔值，表示是否为终止状态 。将这个元组存储到经验回放缓冲器，直到数量达到缓冲器的最大数量。\n",
    "\n",
    "<br>\n",
    "\n",
    "**训练过程如下**：\n",
    "\n",
    "从经验回放缓冲器中随机采样一批数据，并计算 loss：\n",
    "$$\n",
    "\\text{target} = r_t + \\gamma \\underset{a_{t+1}}{\\text{max}} Q(s_{t+1},a_{t+1})\n",
    "$$\n",
    "其中 $\\gamma$ 是折扣因子，\n",
    "\n",
    "$$\n",
    "\\text{loss} = \\text{MSELoss}(Q(s_t,a_t), \\text{target})\n",
    "$$\n",
    "\n",
    "然后就可以对 loss 进行反向传播啦。\n",
    "\n",
    "在我们的实验中存在一个终止状态（done），需要稍微改变一下 target 的算法：\n",
    "$$\n",
    "\\text{target} = r_t + \\gamma \\underset{a_{t+1}}{\\text{max}} Q(s_{t+1},a_{t+1}) * \\text{NOT}(\\text{done})\n",
    "$$\n",
    "\n",
    "<br>\n",
    "\n",
    "**关于 $\\gamma$**：\n",
    "\n",
    "折扣因子可以避免 reward 过大，也可以让 Q 值随着时间衰减，让模型选择尽可能近的路径。"
   ],
   "id": "246f0263af16eaa7"
  },
  {
   "metadata": {
    "ExecuteTime": {
     "end_time": "2024-11-06T05:21:36.661556Z",
     "start_time": "2024-11-06T05:21:36.645188Z"
    }
   },
   "cell_type": "code",
   "source": [
    "# 深度Q网络模型\n",
    "class DQN(nn.Module):\n",
    "    def __init__(self, state_size=(4, 4), action_size=4, grid_states=4, d_model=16, lr=1e-3):\n",
    "        super().__init__()\n",
    "        # 模型结构参数\n",
    "        self.state_size = state_size\n",
    "        self.action_size = action_size\n",
    "        self.grid_states = grid_states\n",
    "        self.d_model = d_model\n",
    "        \n",
    "        # 深度网络\n",
    "        self.emb = nn.Embedding(self.grid_states, self.d_model)\n",
    "        self.featnet = nn.Sequential(\n",
    "            nn.Conv2d(d_model, 2*d_model, kernel_size=3, stride=1, padding=1),          # (4,4,16) -> (4,4,32)\n",
    "            nn.ReLU(),\n",
    "            nn.Conv2d(2*d_model, 4*d_model, kernel_size=3, stride=1, padding=1),        # (4,4,32) -> (4,4,64)\n",
    "            nn.ReLU(),\n",
    "            nn.Conv2d(4*d_model, 8*d_model, kernel_size=3, stride=1),                   # (4,4,64) -> (2,2,128)\n",
    "            nn.ReLU()\n",
    "        )\n",
    "        self.vnet = nn.Sequential(\n",
    "            nn.Linear(self._feat_size(), self._feat_size() // 8),                        # (512) -> (64)\n",
    "            nn.ReLU(),\n",
    "            nn.Linear(self._feat_size() // 8, self.action_size)                          # (64) -> (4)\n",
    "        )\n",
    "        \n",
    "        # 采用均方差损失函数\n",
    "        self.criterion = nn.MSELoss()\n",
    "\n",
    "        # 迭代相关的数据\n",
    "        self.iterations = 0\n",
    "        self.optimizer = optim.Adam(self.parameters(), lr=lr)\n",
    "        \n",
    "    def _feat_size(self):\n",
    "        return 8 * (self.state_size[0] - 2) * (self.state_size[1] - 2) * self.d_model\n",
    "        \n",
    "    # 前向过程\n",
    "    def forward(self, x: torch.Tensor):\n",
    "        batch_size = x.size(0)\n",
    "        x = player_on_grid(x)\n",
    "        x = self.emb(x)\n",
    "        x = x.permute(0, 3, 1, 2)\n",
    "        x = self.featnet(x)\n",
    "        x = x.reshape(batch_size, -1)\n",
    "        x = self.vnet(x)\n",
    "        return x\n",
    "\n",
    "    # 采样\n",
    "    def act(self, x: int, eps=0.1):\n",
    "        # Epsilon-Greedy\n",
    "        if random.random() > eps:\n",
    "            with torch.no_grad():\n",
    "                out = self.forward(torch.tensor([x], device=device))\n",
    "                return torch.argmax(out, dim=-1).squeeze().cpu().item()\n",
    "        else:\n",
    "            return random.randint(0, self.action_size-1)\n",
    "\n",
    "    # 训练\n",
    "    def update(self, sample, gamma=0.9):\n",
    "        state, action, reward, next_state, done = sample\n",
    "        # tuple 转 tensor\n",
    "        state = torch.tensor(state, device=device)\n",
    "        action = torch.tensor(action, device=device)\n",
    "        reward = torch.tensor(reward, device=device)\n",
    "        next_state = torch.tensor(next_state, device=device)\n",
    "        done = torch.tensor(done, dtype=torch.bool, device=device)\n",
    "        \n",
    "        # 训练主要逻辑\n",
    "        self.optimizer.zero_grad()\n",
    "        max_next_q = (~done) * torch.max(self.forward(next_state), dim=1)[0]\n",
    "        target = reward + gamma * max_next_q\n",
    "        q = self.forward(state).gather(1, action[:,None])[:,0]\n",
    "        loss = self.criterion(q, target)\n",
    "        loss.backward()\n",
    "        self.optimizer.step()\n",
    "        self.iterations += 1\n",
    "        return loss.item()"
   ],
   "id": "b864aa6315533a9d",
   "outputs": [],
   "execution_count": 4
  },
  {
   "metadata": {},
   "cell_type": "markdown",
   "source": [
    "#### 经验回放缓冲器\n",
    "\n",
    "经验回放缓存器维护一个队列，用于存放在环境中采样的数据，并在训练时随机取出一定样本作为训练数据。"
   ],
   "id": "149d9b474dfeac56"
  },
  {
   "metadata": {
    "ExecuteTime": {
     "end_time": "2024-11-06T05:21:39.930006Z",
     "start_time": "2024-11-06T05:21:39.923235Z"
    }
   },
   "cell_type": "code",
   "source": [
    "# 经验回放缓冲器\n",
    "class ExpReplayBuffer:\n",
    "    def __init__(self, max_len=1024):\n",
    "        self.max_len = max_len\n",
    "        self.buffer = collections.deque(maxlen=max_len)     # 使用队列存储\n",
    "    \n",
    "    def clear(self):\n",
    "        self.buffer.clear()\n",
    "        \n",
    "    def is_full(self):\n",
    "        return len(self.buffer) == self.max_len\n",
    "    \n",
    "    def append(self, sample):\n",
    "        self.buffer.append(sample)\n",
    "    \n",
    "    # 随机取出一定样本用于模型训练\n",
    "    def sample(self, n=256):\n",
    "        zipped = random.sample(list(self.buffer), n)\n",
    "        return list(zip(*zipped))"
   ],
   "id": "46f0ef326ee285ce",
   "outputs": [],
   "execution_count": 5
  },
  {
   "metadata": {
    "ExecuteTime": {
     "end_time": "2024-11-06T05:21:41.380831Z",
     "start_time": "2024-11-06T05:21:41.374676Z"
    }
   },
   "cell_type": "code",
   "source": [
    "# 从环境中采样数据用于训练模型\n",
    "def sample_from_env(env: gym.Env, net: nn.Module, buffer: ExpReplayBuffer):\n",
    "    net.eval()\n",
    "    obs = 0\n",
    "    env_running = False\n",
    "    buffer.clear()\n",
    "    while not buffer.is_full():\n",
    "        if not env_running:\n",
    "            obs, info = env.reset()\n",
    "            env_running = True\n",
    "        action = net.act(obs)\n",
    "        obs_next, reward, terminated, truncated, info = env.step(action)\n",
    "        env_running = not (terminated or truncated)\n",
    "        buffer.append((obs, action, reward, obs_next, terminated))\n",
    "        obs = obs_next\n",
    "    env.close()\n",
    "\n",
    "# 训练模型\n",
    "def train_model(net: nn.Module, buffer: ExpReplayBuffer, batch_size=256):\n",
    "    samples = buffer.sample(batch_size)\n",
    "    net.train()\n",
    "    return net.update(samples, gamma=0.9)"
   ],
   "id": "e991baad6f45f34b",
   "outputs": [],
   "execution_count": 6
  },
  {
   "metadata": {
    "ExecuteTime": {
     "end_time": "2024-11-06T06:20:39.070313Z",
     "start_time": "2024-11-06T06:20:39.065522Z"
    }
   },
   "cell_type": "code",
   "source": [
    "# 推理，无图形化渲染，用于采集训练时的模型拟合情况\n",
    "def infer(env: gym.Env, net: nn.Module):\n",
    "    net.eval()\n",
    "    obs, info = env.reset()\n",
    "    episode_over = False\n",
    "    steps = 0\n",
    "    reward_cnt = 0\n",
    "    while not episode_over:\n",
    "        action = net.act(obs, eps=0.0)\n",
    "        obs_next, reward, terminated, truncated, info = env.step(action)\n",
    "        episode_over = terminated or truncated\n",
    "        obs = obs_next\n",
    "        steps += 1\n",
    "        reward_cnt += reward\n",
    "    env.close()\n",
    "    return reward_cnt, steps\n",
    "\n",
    "# 推理，图形化渲染，用于直观地观察模型的运动\n",
    "def infer_human_render(env: gym.Env, net: nn.Module):\n",
    "    net.eval()\n",
    "    obs, info = env.reset()\n",
    "    env.render()\n",
    "    episode_over = False\n",
    "    steps = 0\n",
    "    reward_cnt = 0\n",
    "\n",
    "    time.sleep(1)\n",
    "\n",
    "    while not episode_over:\n",
    "        action = net.act(obs, eps=0.0)\n",
    "        obs_next, reward, terminated, truncated, info = env.step(action)\n",
    "        env.render()\n",
    "\n",
    "        time.sleep(0.8)\n",
    "\n",
    "        episode_over = terminated or truncated\n",
    "        obs = obs_next\n",
    "        steps += 1\n",
    "        reward_cnt += reward\n",
    "    env.close()\n",
    "    if reward_cnt == 0:\n",
    "        print(f'模型未到达终点，共计{steps}步')\n",
    "    else:\n",
    "        print(f'模型到达终点，共计{steps}步')"
   ],
   "id": "e1b84d7a65d3b6cd",
   "outputs": [],
   "execution_count": 18
  },
  {
   "metadata": {
    "ExecuteTime": {
     "end_time": "2024-11-06T05:21:45.725444Z",
     "start_time": "2024-11-06T05:21:45.719102Z"
    }
   },
   "cell_type": "code",
   "source": [
    "# 保存模型\n",
    "def save_model(net: DQN):\n",
    "    state_dict = {\n",
    "        'iterations': net.iterations,\n",
    "        'model': net.state_dict(),\n",
    "        'optimizer': net.optimizer.state_dict(),\n",
    "    }\n",
    "    save_path = f'./models/dqn_{net.iterations}.pth'\n",
    "    torch.save(state_dict, save_path)\n",
    "    print(f'Model saved at {save_path}.')\n",
    "\n",
    "# 加载模型\n",
    "def load_model(net: DQN, path: str):\n",
    "    state_dict = torch.load(path)\n",
    "    net.iterations = state_dict['iterations']\n",
    "    net.load_state_dict(state_dict['model'])\n",
    "    net.optimizer.load_state_dict(state_dict['optimizer'])\n",
    "    print(f'Model loaded from {path}.')"
   ],
   "id": "97eaf83c1b2c56ca",
   "outputs": [],
   "execution_count": 8
  },
  {
   "metadata": {
    "ExecuteTime": {
     "end_time": "2024-11-06T05:44:48.825484Z",
     "start_time": "2024-11-06T05:27:28.464744Z"
    }
   },
   "cell_type": "code",
   "source": [
    "env = gym.make('FrozenLake-v1')\n",
    "net = DQN()\n",
    "net = net.to(device)\n",
    "buffer = ExpReplayBuffer(max_len=1024)\n",
    "\n",
    "loss_rec = []\n",
    "reward_rec = []\n",
    "steps_rec = []\n",
    "\n",
    "for i in range(1500):\n",
    "    sample_from_env(env, net, buffer)\n",
    "    loss = train_model(net, buffer, batch_size=256)\n",
    "    reward, steps = infer(env, net)\n",
    "    loss_rec.append(loss)\n",
    "    reward_rec.append(reward)\n",
    "    steps_rec.append(steps)\n",
    "    \n",
    "    # 每隔 50 iteration 打印一次\n",
    "    if net.iterations % 50 == 0:\n",
    "        print(f'\\rIteration {net.iterations} finished with loss {loss}')"
   ],
   "id": "b08f67f01ede59d",
   "outputs": [
    {
     "name": "stdout",
     "output_type": "stream",
     "text": [
      "Iteration 50 finished with loss 0.0021961734164506197\n",
      "Iteration 100 finished with loss 1.916979454108514e-05\n",
      "Iteration 150 finished with loss 0.0032815528102219105\n",
      "Iteration 200 finished with loss 0.006334337405860424\n",
      "Iteration 250 finished with loss 0.0029342402704060078\n",
      "Iteration 300 finished with loss 0.0050495825707912445\n",
      "Iteration 350 finished with loss 0.002161448821425438\n",
      "Iteration 400 finished with loss 0.00842416100203991\n",
      "Iteration 450 finished with loss 0.0006848912453278899\n",
      "Iteration 500 finished with loss 0.005461144261062145\n",
      "Iteration 550 finished with loss 0.004677343647927046\n",
      "Iteration 600 finished with loss 0.004674671217799187\n",
      "Iteration 650 finished with loss 0.004319989122450352\n",
      "Iteration 700 finished with loss 0.0068225194700062275\n",
      "Iteration 750 finished with loss 0.003399335080757737\n",
      "Iteration 800 finished with loss 0.005402174778282642\n",
      "Iteration 850 finished with loss 0.004648440983146429\n",
      "Iteration 900 finished with loss 0.0005027295555919409\n",
      "Iteration 950 finished with loss 0.011365178972482681\n",
      "Iteration 1000 finished with loss 0.007529077120125294\n",
      "Iteration 1050 finished with loss 0.004081491380929947\n",
      "Iteration 1100 finished with loss 0.006404163781553507\n",
      "Iteration 1150 finished with loss 0.005824023392051458\n",
      "Iteration 1200 finished with loss 0.003503895830363035\n",
      "Iteration 1250 finished with loss 0.005330337211489677\n",
      "Iteration 1300 finished with loss 0.005121808033436537\n",
      "Iteration 1350 finished with loss 0.004931831266731024\n",
      "Iteration 1400 finished with loss 0.00663825124502182\n",
      "Iteration 1450 finished with loss 0.009888462722301483\n",
      "Iteration 1500 finished with loss 0.006198336370289326\n"
     ]
    }
   ],
   "execution_count": 12
  },
  {
   "metadata": {
    "ExecuteTime": {
     "end_time": "2024-11-06T06:20:53.775255Z",
     "start_time": "2024-11-06T06:20:53.757621Z"
    }
   },
   "cell_type": "code",
   "source": "save_model(net)",
   "id": "fcb16dea7cce6c76",
   "outputs": [
    {
     "name": "stdout",
     "output_type": "stream",
     "text": [
      "Model saved at ./models/dqn_3000.pth.\n"
     ]
    }
   ],
   "execution_count": 19
  },
  {
   "metadata": {
    "ExecuteTime": {
     "end_time": "2024-11-06T06:20:13.233234Z",
     "start_time": "2024-11-06T06:20:13.016350Z"
    }
   },
   "cell_type": "code",
   "source": [
    "plt.subplot(3, 1, 1)\n",
    "plt.plot(loss_rec)\n",
    "plt.subplot(3, 1, 2)\n",
    "plt.plot(reward_rec)\n",
    "plt.subplot(3, 1, 3)\n",
    "plt.plot(steps_rec)\n",
    "plt.show()"
   ],
   "id": "c8fc79dbc5d05238",
   "outputs": [
    {
     "data": {
      "text/plain": [
       "<Figure size 640x480 with 3 Axes>"
      ],
      "image/png": "[encoded data removed]"
     },
     "metadata": {},
     "output_type": "display_data"
    }
   ],
   "execution_count": 17
  },
  {
   "metadata": {
    "ExecuteTime": {
     "end_time": "2024-11-06T06:17:37.162405Z",
     "start_time": "2024-11-06T06:01:46.303797Z"
    }
   },
   "cell_type": "code",
   "source": [
    "for i in range(1500):\n",
    "    sample_from_env(env, net, buffer)\n",
    "    loss = train_model(net, buffer, batch_size=256)\n",
    "    reward, steps = infer(env, net)\n",
    "    loss_rec.append(loss)\n",
    "    reward_rec.append(reward)\n",
    "    steps_rec.append(steps)\n",
    "\n",
    "    # 每隔 50 iteration 打印一次\n",
    "    if net.iterations % 50 == 0:\n",
    "        print(f'\\rIteration {net.iterations} finished with loss {loss}')"
   ],
   "id": "b69abd71d0cf4c54",
   "outputs": [
    {
     "name": "stdout",
     "output_type": "stream",
     "text": [
      "Iteration 1550 finished with loss 0.0077525717206299305\n",
      "Iteration 1600 finished with loss 0.014680886641144753\n",
      "Iteration 1650 finished with loss 0.006292012985795736\n",
      "Iteration 1700 finished with loss 0.006669408641755581\n",
      "Iteration 1750 finished with loss 0.006795972585678101\n",
      "Iteration 1800 finished with loss 0.006286188960075378\n",
      "Iteration 1850 finished with loss 0.00715983472764492\n",
      "Iteration 1900 finished with loss 0.003785055596381426\n",
      "Iteration 1950 finished with loss 0.006883522495627403\n",
      "Iteration 2000 finished with loss 0.004850997123867273\n",
      "Iteration 2050 finished with loss 0.0044982098042964935\n",
      "Iteration 2100 finished with loss 0.0045404378324747086\n",
      "Iteration 2150 finished with loss 0.00727037014439702\n",
      "Iteration 2200 finished with loss 0.005521388724446297\n",
      "Iteration 2250 finished with loss 0.007231827825307846\n",
      "Iteration 2300 finished with loss 0.006235888227820396\n",
      "Iteration 2350 finished with loss 0.009178576990962029\n",
      "Iteration 2400 finished with loss 0.005790724419057369\n",
      "Iteration 2450 finished with loss 0.0027810647152364254\n",
      "Iteration 2500 finished with loss 0.00532839959487319\n",
      "Iteration 2550 finished with loss 0.006594094913452864\n",
      "Iteration 2600 finished with loss 0.00980694591999054\n",
      "Iteration 2650 finished with loss 0.0061019896529614925\n",
      "Iteration 2700 finished with loss 0.008096791803836823\n",
      "Iteration 2750 finished with loss 0.005273575894534588\n",
      "Iteration 2800 finished with loss 0.004704861901700497\n",
      "Iteration 2850 finished with loss 0.006077956408262253\n",
      "Iteration 2900 finished with loss 0.004270153120160103\n",
      "Iteration 2950 finished with loss 0.006634144112467766\n",
      "Iteration 3000 finished with loss 0.003064938820898533\n"
     ]
    }
   ],
   "execution_count": 16
  },
  {
   "metadata": {
    "ExecuteTime": {
     "end_time": "2024-11-06T06:22:48.404784Z",
     "start_time": "2024-11-06T06:21:01.540964Z"
    }
   },
   "cell_type": "code",
   "source": [
    "def test():\n",
    "    test_env = gym.make('FrozenLake-v1', render_mode='human')\n",
    "    test_model = DQN()\n",
    "    test_model = test_model.to(device)\n",
    "    \n",
    "    infer_human_render(test_env, test_model)\n",
    "    \n",
    "test()"
   ],
   "id": "3022fd84f2761a6b",
   "outputs": [
    {
     "name": "stdout",
     "output_type": "stream",
     "text": [
      "模型未到达终点，共计100步\n"
     ]
    }
   ],
   "execution_count": 20
  },
  {
   "metadata": {},
   "cell_type": "markdown",
   "source": [
    "## 结果\n",
    "\n",
    "很遗憾，模型一直在原地打转就是不到终点😢。虽然没有继续修改的时间了，但是理解算法的目的达到了，接下来要继续学些新东西了🤔🤔🤔"
   ],
   "id": "c67a98e4ce06a6a1"
  }
 ],
 "metadata": {
  "kernelspec": {
   "display_name": "Python 3",
   "language": "python",
   "name": "python3"
  },
  "language_info": {
   "codemirror_mode": {
    "name": "ipython",
    "version": 2
   },
   "file_extension": ".py",
   "mimetype": "text/x-python",
   "name": "python",
   "nbconvert_exporter": "python",
   "pygments_lexer": "ipython2",
   "version": "2.7.6"
  }
 },
 "nbformat": 4,
 "nbformat_minor": 5
}
