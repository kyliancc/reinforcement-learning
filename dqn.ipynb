{
 "cells": [
  {
   "metadata": {},
   "cell_type": "markdown",
   "source": [
    "# 深度强化学习 DQN 实验\n",
    "\n",
    "实验采用 OpenAI Gymnasium 的 Frozen Lake 环境\n",
    "\n"
   ],
   "id": "2aa8af84e641c45a"
  },
  {
   "cell_type": "code",
   "id": "initial_id",
   "metadata": {
    "collapsed": true,
    "ExecuteTime": {
     "end_time": "2024-11-04T12:56:24.956204Z",
     "start_time": "2024-11-04T12:56:24.953880Z"
    }
   },
   "source": [
    "import random\n",
    "import torch\n",
    "import torch.nn as nn\n",
    "import torch.nn.functional as F\n",
    "import torch.optim as optim\n",
    "import numpy as np\n",
    "import gymnasium as gym\n",
    "import matplotlib.pyplot as plt"
   ],
   "outputs": [],
   "execution_count": 12
  },
  {
   "metadata": {
    "ExecuteTime": {
     "end_time": "2024-11-04T12:56:26.430389Z",
     "start_time": "2024-11-04T12:56:26.426450Z"
    }
   },
   "cell_type": "code",
   "source": [
    "BLANK = 0\n",
    "LAKE = 1\n",
    "GIFT = 2\n",
    "PLAYER = 3\n",
    "    \n",
    "grid = torch.tensor([\n",
    "    [BLANK, BLANK, BLANK, BLANK],\n",
    "    [BLANK, LAKE, BLANK, LAKE],\n",
    "    [BLANK, BLANK, BLANK, LAKE],\n",
    "    [LAKE, BLANK, BLANK, GIFT]\n",
    "], dtype=torch.long)\n",
    "\n",
    "def player_on_grid(state):\n",
    "    batch_size = state.size(0)\n",
    "    ret = grid.unsqueeze(0).repeat(batch_size, 1, 1)\n",
    "    indices = torch.cat((state.unsqueeze(-1) // 3, state.unsqueeze(-1) % 3), dim=-1)\n",
    "    for i in range(batch_size):\n",
    "        ret[i, indices[i,0], indices[i,1]] = PLAYER\n",
    "    return ret"
   ],
   "id": "91c46e68adeafa0d",
   "outputs": [],
   "execution_count": 13
  },
  {
   "metadata": {
    "ExecuteTime": {
     "end_time": "2024-11-04T12:56:26.969560Z",
     "start_time": "2024-11-04T12:56:26.955727Z"
    }
   },
   "cell_type": "code",
   "source": [
    "class DQN(nn.Module):\n",
    "    def __init__(self, state_size=(4, 4), action_size=4, grid_states=4, d_model=16, lr=1e-3):\n",
    "        super().__init__()\n",
    "        self.state_size = state_size\n",
    "        self.action_size = action_size\n",
    "        self.grid_states = grid_states\n",
    "        self.d_model = d_model\n",
    "        \n",
    "        self.emb = nn.Embedding(self.grid_states, self.d_model)\n",
    "        \n",
    "        self.featnet = nn.Sequential(\n",
    "            nn.Conv2d(d_model, 2*d_model, kernel_size=3, stride=1, padding=1),          # (4,4,16) -> (4,4,32)\n",
    "            nn.ReLU(),\n",
    "            nn.Conv2d(2*d_model, 4*d_model, kernel_size=3, stride=1, padding=1),        # (4,4,32) -> (4,4,64)\n",
    "            nn.ReLU(),\n",
    "            nn.Conv2d(4*d_model, 8*d_model, kernel_size=3, stride=1),                   # (4,4,64) -> (2,2,128)\n",
    "            nn.ReLU()\n",
    "        )\n",
    "        \n",
    "        self.vnet = nn.Sequential(\n",
    "            nn.Linear(self._feat_size(), self._feat_size() // 8),                        # (512) -> (64)\n",
    "            nn.ReLU(),\n",
    "            nn.Linear(self._feat_size() // 8, self.action_size)                          # (64) -> (4)\n",
    "        )\n",
    "        \n",
    "        self.criterion = nn.MSELoss()\n",
    "        self.optimizer = optim.Adam(self.parameters(), lr=lr)\n",
    "        \n",
    "    def _feat_size(self):\n",
    "        return 8 * (self.state_size[0] - 2) * (self.state_size[1] - 2) * self.d_model\n",
    "        \n",
    "    def forward(self, x):\n",
    "        batch_size = x.size(0)\n",
    "        x = player_on_grid(x)\n",
    "        x = self.emb(x)\n",
    "        x = x.permute(0, 3, 1, 2)\n",
    "        x = self.featnet(x)\n",
    "        x = x.reshape(batch_size, -1)\n",
    "        x = self.vnet(x)\n",
    "        return x\n",
    "    \n",
    "    def act(self, x, eps=0.1):\n",
    "        # Epsilon-Greedy\n",
    "        if random.random() > eps:\n",
    "            with torch.no_grad():\n",
    "                return torch.argmax(self.forward(x), dim=-1).squeeze().item()\n",
    "        else:\n",
    "            return torch.randint(0, self.action_size)\n",
    "        \n",
    "    def update(self, sample, gamma=1.0):\n",
    "        state, action, reward, next_state, done = sample\n",
    "        \n",
    "        self.optimizer.zero_grad()\n",
    "        max_next_q = torch.max(self.forward(next_state), dim=1)[0] if not done else torch.zeros_like(reward)\n",
    "        target = reward + gamma * max_next_q\n",
    "        q = self.forward(state).gather(1, action)\n",
    "        loss = self.criterion(q, target)\n",
    "        loss.backward()\n",
    "        self.optimizer.step()\n",
    "        \n",
    "dqn = DQN()\n",
    "dqn(torch.tensor([0, 1, 7]))"
   ],
   "id": "b864aa6315533a9d",
   "outputs": [
    {
     "data": {
      "text/plain": [
       "tensor([[ 0.0442, -0.0743, -0.0089,  0.0957],\n",
       "        [ 0.0491, -0.0706, -0.0074,  0.0978],\n",
       "        [ 0.0420, -0.0793, -0.0050,  0.0978]], grad_fn=<AddmmBackward0>)"
      ]
     },
     "execution_count": 14,
     "metadata": {},
     "output_type": "execute_result"
    }
   ],
   "execution_count": 14
  },
  {
   "metadata": {},
   "cell_type": "code",
   "outputs": [],
   "execution_count": null,
   "source": "",
   "id": "46f0ef326ee285ce"
  }
 ],
 "metadata": {
  "kernelspec": {
   "display_name": "Python 3",
   "language": "python",
   "name": "python3"
  },
  "language_info": {
   "codemirror_mode": {
    "name": "ipython",
    "version": 2
   },
   "file_extension": ".py",
   "mimetype": "text/x-python",
   "name": "python",
   "nbconvert_exporter": "python",
   "pygments_lexer": "ipython2",
   "version": "2.7.6"
  }
 },
 "nbformat": 4,
 "nbformat_minor": 5
}
